{
 "cells": [
  {
   "cell_type": "markdown",
   "metadata": {},
   "source": [
    "# Rock, Paper or Scissor Game"
   ]
  },
  {
   "cell_type": "code",
   "execution_count": 1,
   "metadata": {},
   "outputs": [
    {
     "name": "stdout",
     "output_type": "stream",
     "text": [
      "Welcome to the Rock, Paper, Scissors Game\n",
      "Please enter Rock, Paper, or Scissor\n",
      "Please enter Rock, Paper, or Scissor\n",
      "Please enter Rock, Paper, or Scissor\n",
      "Please enter Rock, Paper, or Scissor\n",
      "Please enter Rock, Paper, or Scissor\n",
      "Player1 selects Scissor\n",
      "Player2 selects Rock\n",
      "Player2 wins the game\n",
      "Scores of Player1: 0, Scores of Player2: 1, Ties: 0\n",
      "Player1 selects Scissor\n",
      "Player2 selects Paper\n",
      "Player1 wins the game\n",
      "Scores of Player1: 1, Scores of Player2: 1, Ties: 0\n",
      "Please enter Rock, Paper, or Scissor\n",
      "Please enter Rock, Paper, or Scissor\n",
      "Player1 selects Rock\n",
      "Player2 selects Scissor\n",
      "Player1 wins the game\n",
      "Scores of Player1: 2, Scores of Player2: 1, Ties: 0\n",
      "Thank you for playing and Good Luck\n",
      "We are waiting you for the next time\n"
     ]
    }
   ],
   "source": [
    "import random # ====> import package random because I need random choice from player1\n",
    "print(\"Welcome to the Rock, Paper, Scissors Game\") # ====> Welcome message\n",
    "player1_score = 0 # ====> How many times has the player1 won? ?\n",
    "player2_score = 0# # ====> How many times has the player2 won? ?\n",
    "ties = 0 # ====> How many times has the player1 tied with the player2?\n",
    "while True:\n",
    "    player1 = random.choice([\"Rock\", \"Paper\", \"Scissor\"]).capitalize()# ====> take player1 choice\n",
    "    player2 = input(\"Enter Rock, Paper, or Scissor : \").capitalize()# ====> take player1 choice\n",
    "    quit = input(\"(To exit enter 'Q')\")# ====> If the players want to quit the game\n",
    "    if quit.upper() == \"Q\": # ====> If the players write Q, the game will end\n",
    "        print(\"Thank you for playing and Good Luck\") # ====> when the game has ended, It will print the previous sentences\n",
    "        break\n",
    "    if player2 not in [\"Rock\", \"Paper\", \"Scissor\"]: # ====> If player2 writes wrong input, the game will ask again for correct answer\n",
    "        print(\"Please enter Rock, Paper, or Scissor\")\n",
    "        continue\n",
    "    print(f\"Player1 selects {player1}\")\n",
    "    print(f\"Player2 selects {player2}\")\n",
    "    if player2 == player1:\n",
    "        print(\"It's a tie\")\n",
    "        ties += 1\n",
    "    elif(player2 == \"Paper\" and player1 == \"Rock\"):\n",
    "         print(\"Player2 win the game\")\n",
    "    elif(player2 == \"Scissor\" and player1 == \"Paper\"):\n",
    "         print(\"Player2 win the game\")\n",
    "    elif(player2 == \"Rock\" and player1 == \"Scissor\"):\n",
    "        print(\"Player2 wins the game\")\n",
    "        player2_score += 1\n",
    "    else:\n",
    "        print(\"Player1 wins the game\")\n",
    "        player1_score += 1\n",
    "    print(f\"Scores of Player1: {player1_score}, Scores of Player2: {player2_score}, Ties: {ties}\")\n",
    "    \n",
    "print(\"We are waiting you for the next time\")\n"
   ]
  },
  {
   "cell_type": "code",
   "execution_count": null,
   "metadata": {},
   "outputs": [],
   "source": []
  }
 ],
 "metadata": {
  "kernelspec": {
   "display_name": "base",
   "language": "python",
   "name": "python3"
  },
  "language_info": {
   "codemirror_mode": {
    "name": "ipython",
    "version": 3
   },
   "file_extension": ".py",
   "mimetype": "text/x-python",
   "name": "python",
   "nbconvert_exporter": "python",
   "pygments_lexer": "ipython3",
   "version": "3.11.4"
  }
 },
 "nbformat": 4,
 "nbformat_minor": 2
}
